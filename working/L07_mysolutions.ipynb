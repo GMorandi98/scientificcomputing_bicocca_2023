{
 "cells": [
  {
   "cell_type": "markdown",
   "metadata": {},
   "source": [
    "## Q1: The stock market\n",
    "\n",
    "(This is about numba)\n",
    "\n",
    "A Markov Chain is defined as a sequence of random variables where a parameter depends *only* on the preceding value. This is a crucial tool in statistics, widely used in science and beyond (economics for instance).\n",
    "\n",
    "For instance, the stock market has phases of growing prices (bull), dreasing prices (bear) and recession. This would be a Marov Chain model:\n",
    "\n",
    "![](https://upload.wikimedia.org/wikipedia/commons/thumb/9/95/Finance_Markov_chain_example_state_space.svg/400px-Finance_Markov_chain_example_state_space.svg.png)\n",
    "\n",
    "where the numbers on the arrows indicate the probabily that the next day will be in a given state.\n",
    "\n",
    "Your task is to simulate the stock market according to this rule. Start from a random state and simulate many many  iterations. If your code is right, the fraction of days in each state should converge. \n",
    "\n",
    "Implement a pure-python version and a numba version, and compare speeds. \n"
   ]
  },
  {
   "cell_type": "code",
   "execution_count": 25,
   "metadata": {},
   "outputs": [],
   "source": [
    "import random\n",
    "import numpy as np\n",
    "from numba import njit\n",
    "\n",
    "# initialize a 2dim array where the axis 0 is the state\n",
    "# in which you are and the axis 1 contains the transition probabilities\n",
    "# (from the draw) of jumping from the current state to the others. \n",
    "states = np.array([[0.90, 0.075, 0.025],        # Bull market state\n",
    "                   [0.15, 0.8  , 0.05 ],        # Bear market state\n",
    "                   [0.25, 0.25 , 0.5  ]])       # Stagnant market state\n",
    "\n",
    "Nit = int(1e7)\n",
    "init = random.randint(0, 2) # defines the initial random state. \n",
    "\n",
    "def MarketMC(Nit, init, states):\n",
    "    current = init\n",
    "    bull, bear, stag = 0, 0, 0\n",
    "    for i in range(Nit):\n",
    "        x = random.random()\n",
    "        if x <= states[current, 0]:\n",
    "            current = 0 # Bull market\n",
    "            bull += 1\n",
    "        elif (1.0 - x) <= states[current, 1]:\n",
    "            current = 1 # Bear market\n",
    "            bear += 1\n",
    "        else:\n",
    "            current = 2 # Stagnant market\n",
    "            stag += 1\n",
    "    # print the fraction of number of times you were in the\n",
    "    # 3 states during the 'Nit' executions. \n",
    "    print(bull / Nit, bear / Nit, stag / Nit)"
   ]
  },
  {
   "cell_type": "code",
   "execution_count": 26,
   "metadata": {},
   "outputs": [
    {
     "name": "stdout",
     "output_type": "stream",
     "text": [
      "0.625 0.3124228 0.0625772\n",
      "0.6252702 0.3120761 0.0626537\n",
      "0.6253209 0.3122266 0.0624525\n",
      "0.6257713 0.3117674 0.0624613\n",
      "0.6248174 0.3126608 0.0625218\n",
      "0.6250729 0.3126208 0.0623063\n",
      "0.6248721 0.312521 0.0626069\n",
      "0.6254445 0.3120602 0.0624953\n",
      "1.44 s ± 14.4 ms per loop (mean ± std. dev. of 7 runs, 1 loop each)\n"
     ]
    }
   ],
   "source": [
    "%timeit MarketMC(Nit, init, states)"
   ]
  },
  {
   "cell_type": "code",
   "execution_count": 27,
   "metadata": {},
   "outputs": [],
   "source": [
    "m_MarketMC = njit(MarketMC)"
   ]
  },
  {
   "cell_type": "code",
   "execution_count": 28,
   "metadata": {},
   "outputs": [
    {
     "name": "stdout",
     "output_type": "stream",
     "text": [
      "0.6253651 0.312094 0.0625409\n",
      "0.6244958 0.312892 0.0626122\n",
      "0.624314 0.313009 0.062677\n",
      "0.6242285 0.313085 0.0626865\n",
      "0.624932 0.3124672 0.0626008\n",
      "0.6246074 0.3128262 0.0625664\n",
      "0.624449 0.3130178 0.0625332\n",
      "0.6248778 0.3125228 0.0625994\n",
      "0.625564 0.3120753 0.0623607\n",
      "0.6247837 0.3127258 0.0624905\n",
      "0.6253109 0.3120779 0.0626112\n",
      "0.6249322 0.3124624 0.0626054\n",
      "0.6250065 0.3125891 0.0624044\n",
      "0.6245222 0.3131772 0.0623006\n",
      "0.6245835 0.3129306 0.0624859\n",
      "0.6253063 0.3123344 0.0623593\n",
      "0.6245973 0.3129388 0.0624639\n",
      "0.6254189 0.311936 0.0626451\n",
      "0.6246911 0.3127956 0.0625133\n",
      "0.6257501 0.3118996 0.0623503\n",
      "0.624691 0.313045 0.062264\n",
      "0.624736 0.3126739 0.0625901\n",
      "0.6247182 0.3127604 0.0625214\n",
      "0.6244362 0.3129764 0.0625874\n",
      "0.6247618 0.3125642 0.062674\n",
      "0.625166 0.3124149 0.0624191\n",
      "0.6255477 0.3120427 0.0624096\n",
      "0.6251987 0.312316 0.0624853\n",
      "0.6253627 0.3120971 0.0625402\n",
      "0.6243049 0.3128994 0.0627957\n",
      "0.6257922 0.3119475 0.0622603\n",
      "0.6253892 0.3123433 0.0622675\n",
      "0.625213 0.3123 0.062487\n",
      "0.6244971 0.3129949 0.062508\n",
      "0.6249875 0.3125918 0.0624207\n",
      "0.62543 0.3121216 0.0624484\n",
      "0.6246569 0.3129227 0.0624204\n",
      "0.6251872 0.3122242 0.0625886\n",
      "0.6248095 0.312588 0.0626025\n",
      "0.6256231 0.3118533 0.0625236\n",
      "0.6242894 0.3128457 0.0628649\n",
      "0.6251462 0.3123142 0.0625396\n",
      "0.6240977 0.313265 0.0626373\n",
      "0.6251559 0.3124782 0.0623659\n",
      "0.6251136 0.3124939 0.0623925\n",
      "0.6253353 0.3121713 0.0624934\n",
      "0.6246421 0.3127571 0.0626008\n",
      "0.6249713 0.3124689 0.0625598\n",
      "0.6253003 0.3123043 0.0623954\n",
      "0.6248872 0.3124005 0.0627123\n",
      "0.6251869 0.3122711 0.062542\n",
      "0.6252336 0.3122342 0.0625322\n",
      "0.625113 0.3124633 0.0624237\n",
      "0.6252126 0.3123882 0.0623992\n",
      "0.6249077 0.3125723 0.06252\n",
      "0.6251872 0.3123009 0.0625119\n",
      "0.6253592 0.3124167 0.0622241\n",
      "0.6249067 0.3124625 0.0626308\n",
      "0.6249188 0.3123671 0.0627141\n",
      "0.6252593 0.3120389 0.0627018\n",
      "0.6248825 0.3125313 0.0625862\n",
      "0.6245224 0.312891 0.0625866\n",
      "0.6245554 0.3130453 0.0623993\n",
      "0.6243292 0.3128823 0.0627885\n",
      "0.6254265 0.3121343 0.0624392\n",
      "0.6251511 0.3123639 0.062485\n",
      "0.62496 0.3125147 0.0625253\n",
      "0.624344 0.313109 0.062547\n",
      "0.625792 0.3116764 0.0625316\n",
      "0.6243077 0.3129569 0.0627354\n",
      "0.6252336 0.3123634 0.062403\n",
      "0.6243657 0.313025 0.0626093\n",
      "0.6255005 0.312278 0.0622215\n",
      "0.6251076 0.3124454 0.062447\n",
      "0.6253634 0.3123762 0.0622604\n",
      "0.6242204 0.3132751 0.0625045\n",
      "0.6249072 0.3126239 0.0624689\n",
      "0.6249536 0.3126055 0.0624409\n",
      "0.6243895 0.3130982 0.0625123\n",
      "0.6251328 0.3124267 0.0624405\n",
      "0.6245662 0.3127878 0.062646\n",
      "57.4 ms ± 482 µs per loop (mean ± std. dev. of 7 runs, 10 loops each)\n"
     ]
    }
   ],
   "source": [
    "%timeit m_MarketMC(Nit, init, states)"
   ]
  }
 ],
 "metadata": {
  "kernelspec": {
   "display_name": "Python 3",
   "language": "python",
   "name": "python3"
  },
  "language_info": {
   "codemirror_mode": {
    "name": "ipython",
    "version": 3
   },
   "file_extension": ".py",
   "mimetype": "text/x-python",
   "name": "python",
   "nbconvert_exporter": "python",
   "pygments_lexer": "ipython3",
   "version": "3.11.2"
  }
 },
 "nbformat": 4,
 "nbformat_minor": 2
}

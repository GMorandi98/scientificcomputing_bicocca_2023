{
 "cells": [
  {
   "cell_type": "markdown",
   "metadata": {},
   "source": [
    "## Q1: I love pip \n",
    "\n",
    "- Take a piece of python code you wrote (for instance pick one of the exercises you've done for this class). \n",
    "- Turn it into a module\n",
    "- Install it locally\n",
    "- Deploy on pypi (only using the test-pypi server!)\n",
    "\n",
    "<div class=\"alert alert-block alert-warning\">\n",
    "<span class=\"fa fa-flash\"></span> VERY IMPORTANT\n",
    "    \n",
    "Both the pypi and test-pypi server are public on the web! Don't compromise your research by putting up something your competitors can use and steal your idea before you've published a paper on it!!! \n",
    "\n",
    "</div>"
   ]
  },
  {
   "cell_type": "markdown",
   "metadata": {},
   "source": [
    "Check <url>https://test.pypi.org/project/improbs/</url>"
   ]
  }
 ],
 "metadata": {
  "kernelspec": {
   "display_name": "Python 3",
   "language": "python",
   "name": "python3"
  },
  "language_info": {
   "codemirror_mode": {
    "name": "ipython",
    "version": 3
   },
   "file_extension": ".py",
   "mimetype": "text/x-python",
   "name": "python",
   "nbconvert_exporter": "python",
   "pygments_lexer": "ipython3",
   "version": "3.11.2"
  }
 },
 "nbformat": 4,
 "nbformat_minor": 2
}

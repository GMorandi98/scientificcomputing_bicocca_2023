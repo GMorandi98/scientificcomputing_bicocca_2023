{
 "cells": [
  {
   "cell_type": "markdown",
   "metadata": {},
   "source": [
    "## Q1: Your next research project.\n",
    "\n",
    "Pick the directory of your current research project (your next paper!) and put it under version control."
   ]
  },
  {
   "cell_type": "markdown",
   "metadata": {},
   "source": [
    "Check repository at: https://github.com/GMorandi98/PhD"
   ]
  },
  {
   "cell_type": "markdown",
   "metadata": {},
   "source": [
    "## Q2: Egocentric\n",
    "\n",
    "Write a github action that lets you commit only if README.md contains your name."
   ]
  },
  {
   "cell_type": "markdown",
   "metadata": {},
   "source": [
    "Check file <code>gabriele_in_readme.ym1</code>"
   ]
  }
 ],
 "metadata": {
  "language_info": {
   "name": "python"
  }
 },
 "nbformat": 4,
 "nbformat_minor": 2
}

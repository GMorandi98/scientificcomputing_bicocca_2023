{
 "cells": [
  {
   "cell_type": "markdown",
   "metadata": {},
   "source": [
    "## Q3: Are you faster than numpy?\n",
    "\n",
    "Numpy of course has a standard deviation function, `np.std()`, but here we'll write our own that works on a 1-d array (vector).  The standard\n",
    "deviation is a measure of the \"width\" of the distribution of numbers\n",
    "in the vector.\n",
    "\n",
    "Given an array, $a$, and an average $\\bar{a}$, the standard deviation\n",
    "is:\n",
    "$$\n",
    "\\sigma = \\left [ \\frac{1}{N} \\sum_{i=1}^N (a_i - \\bar{a})^2 \\right ]^{1/2}\n",
    "$$\n",
    "\n",
    "Write a function to calculate the standard deviation for an input array, `a`:\n",
    "\n",
    "  * First compute the average of the elements in `a` to define $\\bar{a}$\n",
    "  * Next compute the sum over the squares of $a - \\bar{a}$\n",
    "  * Then divide the sum by the number of elements in the array\n",
    "  * Finally take the square root (you can use `np.sqrt()`)\n",
    "  \n",
    "Test your function on a random array, and compare to the built-in `np.std()`. Check the runtime as well."
   ]
  },
  {
   "cell_type": "code",
   "execution_count": 2,
   "metadata": {},
   "outputs": [],
   "source": [
    "import numpy as np\n",
    "import time"
   ]
  },
  {
   "cell_type": "code",
   "execution_count": 14,
   "metadata": {},
   "outputs": [
    {
     "name": "stdout",
     "output_type": "stream",
     "text": [
      "'My method' time elapsed:   0.96735 ms,   std = 0.2885670149785703\n",
      "'Numpy' time elapsed:       1.04568 ms,   std = 0.2885670149785703\n"
     ]
    }
   ],
   "source": [
    "ndim = int(1e6)\n",
    "a = np.random.rand(ndim)\n",
    "n_rep = int(1e3)\n",
    "\n",
    "def my_std(a):\n",
    "    return np.sqrt(np.sum((a - np.mean(a)) ** 2) / len(a))\n",
    "\n",
    "#################\n",
    "### My method ###\n",
    "#################\n",
    "t0_my = time.time()\n",
    "for i in range(n_rep):\n",
    "    std = my_std(a)\n",
    "t1_my = time.time()\n",
    "print(f\"'My method' time elapsed:   {(t1_my - t0_my)/n_rep*1e3:.5f} ms,   std = {std}\")\n",
    "\n",
    "#############\n",
    "### Numpy ###\n",
    "#############\n",
    "t0_np = time.time()\n",
    "for i in range(n_rep):\n",
    "    np_std = np.std(a)\n",
    "t1_np = time.time()\n",
    "print(f\"'Numpy' time elapsed:       {(t1_np - t0_np)/n_rep*1e3:.5f} ms,   std = {np_std}\")"
   ]
  },
  {
   "cell_type": "markdown",
   "metadata": {},
   "source": [
    "## Q5: Einstein summation\n",
    "\n",
    "einsum is a powerful (but often painful) numpy thing:\n",
    "- https://numpy.org/doc/stable/reference/generated/numpy.einsum.html\n",
    "- https://stackoverflow.com/questions/26089893/understanding-numpys-einsum\n",
    "\n",
    "Take 2 vectors A and B. Write the einsum equivalent of inner, outer, sum, and mul function."
   ]
  },
  {
   "cell_type": "code",
   "execution_count": 27,
   "metadata": {},
   "outputs": [
    {
     "name": "stdout",
     "output_type": "stream",
     "text": [
      "inner  :  einsum = 1.888865669319837, numpy = 1.8888656693198371\n",
      "\n",
      "outer  :  einsum - numpy = \n",
      "[[0. 0. 0. 0. 0. 0. 0. 0. 0. 0.]\n",
      " [0. 0. 0. 0. 0. 0. 0. 0. 0. 0.]\n",
      " [0. 0. 0. 0. 0. 0. 0. 0. 0. 0.]\n",
      " [0. 0. 0. 0. 0. 0. 0. 0. 0. 0.]\n",
      " [0. 0. 0. 0. 0. 0. 0. 0. 0. 0.]\n",
      " [0. 0. 0. 0. 0. 0. 0. 0. 0. 0.]\n",
      " [0. 0. 0. 0. 0. 0. 0. 0. 0. 0.]\n",
      " [0. 0. 0. 0. 0. 0. 0. 0. 0. 0.]\n",
      " [0. 0. 0. 0. 0. 0. 0. 0. 0. 0.]\n",
      " [0. 0. 0. 0. 0. 0. 0. 0. 0. 0.]]\n",
      "\n",
      "sum A  :  numpy = 3.984727665436452, einsum = 3.984727665436452\n",
      "sum B  :  numpy = 5.6416475474977075, einsum = 5.641647547497707\n",
      "\n",
      "matmul  :  numpy - einsum = \n",
      "[[0. 0. 0. 0. 0. 0. 0. 0. 0. 0.]\n",
      " [0. 0. 0. 0. 0. 0. 0. 0. 0. 0.]\n",
      " [0. 0. 0. 0. 0. 0. 0. 0. 0. 0.]\n",
      " [0. 0. 0. 0. 0. 0. 0. 0. 0. 0.]\n",
      " [0. 0. 0. 0. 0. 0. 0. 0. 0. 0.]\n",
      " [0. 0. 0. 0. 0. 0. 0. 0. 0. 0.]\n",
      " [0. 0. 0. 0. 0. 0. 0. 0. 0. 0.]\n",
      " [0. 0. 0. 0. 0. 0. 0. 0. 0. 0.]\n",
      " [0. 0. 0. 0. 0. 0. 0. 0. 0. 0.]\n",
      " [0. 0. 0. 0. 0. 0. 0. 0. 0. 0.]]\n",
      "\n"
     ]
    }
   ],
   "source": [
    "A = np.random.rand(10)\n",
    "B = np.random.rand(10)\n",
    "\n",
    "### inner ###\n",
    "print(f'inner  :  einsum = {np.einsum(\"i,i\", A, B)}, numpy = {np.inner(A, B)}\\n') # A_i B_i \n",
    "\n",
    "### outer ###\n",
    "print(f'outer  :  einsum - numpy = \\n{np.einsum(\"i,j\", A, B) - np.outer(A, B)}\\n') # A_i B_j = C_ij, should be equal to 0 matrix. \n",
    "\n",
    "### sum ### \n",
    "print(f'sum A  :  numpy = {np.sum(A)}, einsum = {np.einsum(\"i->\", A)}')\n",
    "print(f'sum B  :  numpy = {np.sum(B)}, einsum = {np.einsum(\"i->\", B)}\\n')\n",
    "\n",
    "### matmul ###\n",
    "A = np.random.rand(10, 10)\n",
    "B = np.random.rand(10, 10)\n",
    "\n",
    "print(f'matmul  :  numpy - einsum = \\n{np.matmul(A, B) - np.einsum(\"ij,jk->ik\", A, B)}\\n')"
   ]
  }
 ],
 "metadata": {
  "kernelspec": {
   "display_name": "Python 3",
   "language": "python",
   "name": "python3"
  },
  "language_info": {
   "codemirror_mode": {
    "name": "ipython",
    "version": 3
   },
   "file_extension": ".py",
   "mimetype": "text/x-python",
   "name": "python",
   "nbconvert_exporter": "python",
   "pygments_lexer": "ipython3",
   "version": "3.11.2"
  }
 },
 "nbformat": 4,
 "nbformat_minor": 2
}
